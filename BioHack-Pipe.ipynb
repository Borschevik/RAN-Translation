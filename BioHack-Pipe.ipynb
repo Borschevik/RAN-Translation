{
 "cells": [
  {
   "cell_type": "markdown",
   "metadata": {},
   "source": [
    "# Search ORF associated with RAN translation"
   ]
  },
  {
   "cell_type": "code",
   "execution_count": 1,
   "metadata": {
    "collapsed": true
   },
   "outputs": [],
   "source": [
    "#import necessary libraries\n",
    "import re\n",
    "import pandas as pd\n",
    "from Bio.Seq import Seq\n",
    "from Bio.Alphabet import generic_dna\n",
    "import numpy as np"
   ]
  },
  {
   "cell_type": "markdown",
   "metadata": {},
   "source": [
    "### Uploading and pre-precosseing dataset"
   ]
  },
  {
   "cell_type": "code",
   "execution_count": 2,
   "metadata": {
    "collapsed": true
   },
   "outputs": [],
   "source": [
    "df = pd.read_csv('norm_database.txt', sep='\\t', index_col=0)\n",
    "df = df.fillna('')\n",
    "df = df.loc[:, ['FlankingLeft4000','FlankingRight4000', 'ArraySequence', 'GeneAttribute', 'Pattern', 'CopyNumber']]\n",
    "df.iloc[:, 0:3].applymap(str)\n",
    "df.iloc[:, 0] = df.iloc[:, 0].str.upper()\n",
    "df.iloc[:, 1] = df.iloc[:, 1].str.upper()\n",
    "df.iloc[:, 2] = df.iloc[:, 2].str.upper()\n",
    "df.columns = ['Left', 'Right', 'Rep', 'GeneID', 'Pattern', 'CopyNumber']"
   ]
  },
  {
   "cell_type": "markdown",
   "metadata": {},
   "source": [
    "### Pipeline for finding ORF"
   ]
  },
  {
   "cell_type": "code",
   "execution_count": 51,
   "metadata": {
    "scrolled": true
   },
   "outputs": [],
   "source": [
    "def get_coord(left_seq, repeat, right_seq):\n",
    "    \"\"\"\n",
    "    Get starts and ends of ORF\n",
    "    :left_seq: sequence left to repeats\n",
    "    :repeat: sequence of repeats\n",
    "    :right_seq: sequence right to repeats\n",
    "    :return: list with starts and ends for sequence\n",
    "    \"\"\"\n",
    "    full = left_seq+repeat+right_seq #full string\n",
    "    #start=r'GCC[AG]CC[CGA][TC][GCT]G'\n",
    "    start = r'(CTG|GTG|ACG|ATT|ATC|GCG)' #Start codons for \n",
    "    starts = starts_row(left_seq, start) #Get all start codons\n",
    "    ends = stops(starts, full, repeat, left_seq) #Get end for ORF\n",
    "    return(starts, ends)\n",
    "    \n",
    "\n",
    "def starts_row(left_seq, pattern):\n",
    "    \"\"\"\n",
    "    Return list wirh start codons coords\n",
    "    :left_seq: sequence left to repeats\n",
    "    :pattern: regular expression for finding start codons\n",
    "    :return: list with all starts codons\n",
    "    \"\"\"\n",
    "    left = left_seq\n",
    "    lst = []\n",
    "    for i in range(len(left)-3):\n",
    "        if re.match(pattern,left[i:i+3]):\n",
    "            if filter_starts_before_repeat(left_seq, i+1): #filter starts codons, which ends before repeats\n",
    "                lst.append(i+1)\n",
    "            else:\n",
    "                continue\n",
    "    return(lst)\n",
    "\n",
    "def filter_starts_before_repeat(seq, start):\n",
    "    \"\"\"\n",
    "    Check if ORF ends before repeats\n",
    "    :seq: sequence left to repeats\n",
    "    :start: start codon coord\n",
    "    \"\"\"\n",
    "    stop = ['TAG', 'TAA', 'TGA']\n",
    "    for i in range(start+2, len(seq), 3):\n",
    "        if seq[i:i+3] in stop:\n",
    "            return False\n",
    "    if len(seq)-start <= 75:\n",
    "        return True\n",
    "    else:\n",
    "        return False\n",
    "\n",
    "def stops(coords, fulls, rep, left):\n",
    "    \"\"\"\n",
    "    Return list wirh start codons coords\n",
    "    \n",
    "    :return: list with all stop codons of ORF\n",
    "    \"\"\"\n",
    "    stop = ['TAG', 'TAA', 'TGA']\n",
    "    lim = len(left)\n",
    "    stops = []\n",
    "    for crd in coords:\n",
    "        for i in range(crd+2, len(fulls), 3):\n",
    "            if fulls[i:i+3] in stop:\n",
    "                if (i+3-lim)>=len(rep):\n",
    "                    stops.append(i+3)\n",
    "                    break\n",
    "                else:\n",
    "                    stops.append(0)\n",
    "                    break\n",
    "    return stops\n",
    "\n",
    "def get_qudra_f(gen):\n",
    "    \"\"\"\n",
    "    Check if g-quadruplex in seq\n",
    "    \"\"\"\n",
    "    sq = Seq(gen, generic_dna)\n",
    "    pattern = \"(G{3,4}[AUGC]{1,12}){4,4}\"\n",
    "    sq = sq.complement().transcribe()\n",
    "    if re.search(pattern, str(sq)):    \n",
    "        return 1\n",
    "    else:\n",
    "        return 0\n",
    "\n",
    "\n",
    "def get_frame(id_s, left, rep, right, patt=None, copy=None):\n",
    "    \"\"\"\n",
    "    Return dataframe with ORF\n",
    "    \n",
    "    :left: left before repeats\n",
    "    :rep: repeats\n",
    "    :right: right after repeats\n",
    "    :return: dataframe with ids and ORF sequence\n",
    "    \"\"\"\n",
    "    id_s = id_s.split('.')\n",
    "    starts, ends = get_coord(left, rep, right)\n",
    "    full = left+rep+right\n",
    "    data =  {'GeneID':[], 'Genome':[],  'Chr':[], 'Coord':[], 'Pattern':[],\n",
    "             'Copy':[], 'Is_causac':[], 'Is_gquad':[]}\n",
    "    for start, end in zip(starts, ends):\n",
    "        if end != 0:\n",
    "            data['Chr'].append(id_s[1])\n",
    "            data['GeneID'].append(id_s[0])\n",
    "            data['Coord'].append(id_s[2])\n",
    "            data['Genome'].append(full[start-1:end])\n",
    "            if patt:\n",
    "                data['Pattern'].append(patt)\n",
    "            if copy:\n",
    "                data['Copy'].append(copy) \n",
    "            data['Is_causac'].append(1) if full[start-1:end][3] == 'G' else data['Is_causac'].append(0)\n",
    "            data['Is_gquad'].append(get_qudra_f(full[start-1:end]))\n",
    "        else:\n",
    "            continue\n",
    "    return pd.DataFrame(data)"
   ]
  },
  {
   "cell_type": "markdown",
   "metadata": {},
   "source": [
    "### Retrieve dataframe with ORFs"
   ]
  },
  {
   "cell_type": "code",
   "execution_count": 52,
   "metadata": {},
   "outputs": [],
   "source": [
    "df_final = pd.DataFrame(columns=['GeneID', 'Chr', 'Coord', 'Genome'])\n",
    "for ids, left, rep, right, patt, copy in zip(df.loc[:,'GeneID'],  \n",
    "                             df.loc[:,'Left'],\n",
    "                             df.loc[:, 'Rep'],                \n",
    "                             df.loc[:,'Right'],                \n",
    "                             df.loc[:,'Pattern'],\n",
    "                             df.loc[:, 'CopyNumber']):\n",
    "    df_final = pd.concat([df_final, get_frame(ids, left, rep, right, patt, copy)], axis=0)"
   ]
  },
  {
   "cell_type": "markdown",
   "metadata": {},
   "source": [
    "### Check if g-quadruplex in sequences"
   ]
  },
  {
   "cell_type": "code",
   "execution_count": 39,
   "metadata": {
    "collapsed": true
   },
   "outputs": [],
   "source": [
    "from Bio import SeqIO\n",
    "pattern = \"(G{2,4}[AUGC]{1,12}){4,4}\"\n",
    "# Write fasta with g quadruoles\n",
    "for record in SeqIO.parse(\"multifasta_ORF_lit.fasta\", \"fasta\"):\n",
    "    if re.search(pattern, str(record.seq)):\n",
    "        print('>'+record.id, file=open('quad_seq.fasta', 'a'))\n",
    "        print(record.seq, file=open('quad_seq.fasta', 'a'))\n",
    "        print(file=open('quad_seq.fasta', 'a'))"
   ]
  },
  {
   "cell_type": "markdown",
   "metadata": {},
   "source": [
    "### Retrieve ORFs from files with sequences"
   ]
  },
  {
   "cell_type": "code",
   "execution_count": 33,
   "metadata": {
    "collapsed": true
   },
   "outputs": [],
   "source": [
    "files = ['DMPK_496.txt',\n",
    "         'FMR1_100.txt',\n",
    "         'HTT_196.txt',\n",
    "         'ATXN8_325.txt',\n",
    "         'С9orf72_337.txt']\n",
    "dct = {\n",
    "    'Left':[],\n",
    "    'Right':[],\n",
    "    'ID':[],\n",
    "    'Full':[],\n",
    "    'Rep':[]\n",
    "}\n",
    "for file in files:\n",
    "    bord = int(re.search('_([0-9]*).', file).group(1))\n",
    "    ids = re.search('([A-Za-z0-9]*)_', file).group(1)\n",
    "    with open(file, 'r') as f:\n",
    "        line = f.readline().strip()\n",
    "        dct['ID'].append(ids)\n",
    "        dct['Left'].append(line[0:bord])\n",
    "        dct['Right'].append(line[len(line)-bord:])\n",
    "        dct['Rep'].append(line[bord-1:len(line)-bord])\n",
    "        dct['Full'].append(line)\n",
    "    \n",
    "    \n",
    "mult_fast = pd.DataFrame(dct)    "
   ]
  },
  {
   "cell_type": "code",
   "execution_count": 43,
   "metadata": {},
   "outputs": [],
   "source": [
    "def get_frame_fasta(id_s, left, rep, right, full):\n",
    "    id_s = id_s.split('.')\n",
    "    starts, ends = get_coord(left, rep, right)\n",
    "    data =  {'ID':[], 'Genome':[],'Is_causac':[], 'Is_gquad':[]}\n",
    "    for start, end in zip(starts, ends):\n",
    "        data['ID'].append(id_s[0])\n",
    "        data['Genome'].append(full[start-1:end])\n",
    "        data['Is_causac'].append(1) if full[start-1:end][3] == 'G' else data['Is_causac'].append(0)\n",
    "        data['Is_gquad'].append(get_qudra_f(full[start-1:end]))\n",
    "    return pd.DataFrame(data)\n",
    "\n",
    "df_final_fasta = pd.DataFrame(columns=['ID', 'Genome', 'Is_causac',  'Is_gquad'])\n",
    "for ids, left, rep, right, full in zip(mult_fast.loc[:,'ID'],  \n",
    "                             mult_fast.loc[:,'Left'],\n",
    "                             mult_fast.loc[:, 'Rep'],                \n",
    "                             mult_fast.loc[:,'Right'],\n",
    "                             mult_fast.loc[:,'Full']\n",
    "                             ):\n",
    "    df_final_fasta = pd.concat([df_final_fasta, get_frame_fasta(ids, left, rep, right, full)], axis=0)"
   ]
  },
  {
   "cell_type": "code",
   "execution_count": 37,
   "metadata": {
    "collapsed": true
   },
   "outputs": [],
   "source": [
    "df_final_fasta.to_csv('it_is_ok_now.csv', index=False)"
   ]
  },
  {
   "cell_type": "markdown",
   "metadata": {},
   "source": [
    "### Get scores for suences before and after repeats"
   ]
  },
  {
   "cell_type": "code",
   "execution_count": 44,
   "metadata": {
    "collapsed": true
   },
   "outputs": [],
   "source": [
    "# Score for sequence after repeats\n",
    "right ={\n",
    "    0:({'C': 0.6, 'T':0.6}),\n",
    "    1:({'A':0.56,'G':0.31}),\n",
    "    2:({'A':0.91,'G':0.91}),\n",
    "    3:({'A':0.94,'G':0.94, 'T':0.94}),\n",
    "    4:({'A':0.94,'G':0.94, 'C':0.94}),\n",
    "    5:({'G':0.56,'C':1, 'A':1}),\n",
    "    8:({'G':0.44}),\n",
    "    9:({'C':1,'G':1,'T':1}),\n",
    "    17:({'G':0.44}),\n",
    "    26:({'G':0.44})\n",
    "}"
   ]
  },
  {
   "cell_type": "code",
   "execution_count": 105,
   "metadata": {
    "collapsed": true
   },
   "outputs": [],
   "source": [
    "#Get scores for aligned sequences\n",
    "dict_right = {\n",
    "    'Score_Right':[]\n",
    "}\n",
    "for record in SeqIO.parse(\"RIGHT_UNI_FASTA.fa\", \"fasta\"):\n",
    "    score = 0\n",
    "    sc = record.seq\n",
    "    for keys, values in right.items():\n",
    "        if sc[keys] in values:\n",
    "            score += values[sc[keys]]\n",
    "    dict_right['Score_Right'].append(score)"
   ]
  },
  {
   "cell_type": "code",
   "execution_count": 51,
   "metadata": {
    "collapsed": true
   },
   "outputs": [],
   "source": [
    "# Score for sequence before repeats\n",
    "left = {\n",
    "    0:({'G':1}),\n",
    "    1:({'C':0.60,'A':0.3}),\n",
    "    2:({'A':0.30,'G':0.60}),\n",
    "    3:({'A':0.30,'G':0.60}),\n",
    "    4:({'C':0.5}),\n",
    "    5:({'G':0.63}),\n",
    "    6:({'G':0.55}),\n",
    "    7:({'C':0.44}),\n",
    "    8:({'G':0.56}),\n",
    "    9:({'G':0.9, 'A':0.9}),\n",
    "    10:({'C': 0.6, 'T':0.6}),\n",
    "    12:({'G':0.45}),\n",
    "    15:({'G':0.45}),\n",
    "    17:({'T':0.45}),\n",
    "    21:({'G':0.45})\n",
    "}"
   ]
  },
  {
   "cell_type": "code",
   "execution_count": 106,
   "metadata": {
    "collapsed": true
   },
   "outputs": [],
   "source": [
    "#Get scores for aligned sequences\n",
    "dict_left = {\n",
    "    'Score_Left':[]\n",
    "}\n",
    "for record in SeqIO.parse(\"LEFT_UNI_FASTA.fa\", \"fasta\"):\n",
    "    score = 0\n",
    "    sc = record.seq\n",
    "    for keys, values in left.items():\n",
    "        if sc[keys] in values:\n",
    "            score += values[sc[keys]]\n",
    "    dict_left['Score_Left'].append(score)"
   ]
  },
  {
   "cell_type": "code",
   "execution_count": 107,
   "metadata": {
    "collapsed": true
   },
   "outputs": [],
   "source": [
    "# append score to dataframe\n",
    "lft = pd.DataFrame(dict_left)\n",
    "rgt = pd.DataFrame(dict_right)\n",
    "scores = pd.concat([lft, rgt], axis = 1)\n",
    "df_final.index = scores.index\n",
    "df_final = pd.concat([df_final, scores], axis=1)"
   ]
  },
  {
   "cell_type": "code",
   "execution_count": 108,
   "metadata": {
    "collapsed": true
   },
   "outputs": [],
   "source": [
    "# get final file\n",
    "df_final.to_csv('with_scores.csv')"
   ]
  }
 ],
 "metadata": {
  "kernelspec": {
   "display_name": "Python 3",
   "language": "python",
   "name": "python3"
  },
  "language_info": {
   "codemirror_mode": {
    "name": "ipython",
    "version": 3
   },
   "file_extension": ".py",
   "mimetype": "text/x-python",
   "name": "python",
   "nbconvert_exporter": "python",
   "pygments_lexer": "ipython3",
   "version": "3.6.3"
  }
 },
 "nbformat": 4,
 "nbformat_minor": 2
}
